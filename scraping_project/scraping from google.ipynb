{
 "cells": [
  {
   "cell_type": "code",
   "execution_count": 2,
   "id": "2f266554",
   "metadata": {},
   "outputs": [],
   "source": [
    "import os\n",
    "from selenium import webdriver\n",
    "from selenium.webdriver.common.keys import Keys\n",
    "from selenium.webdriver.support import expected_conditions as EC\n",
    "from selenium.webdriver.common.by import By\n",
    "from selenium.webdriver.support.wait import WebDriverWait"
   ]
  },
  {
   "cell_type": "code",
   "execution_count": 22,
   "id": "5164c3b5",
   "metadata": {},
   "outputs": [
    {
     "name": "stderr",
     "output_type": "stream",
     "text": [
      "<ipython-input-22-f388b5a2c212>:1: DeprecationWarning: executable_path has been deprecated, please pass in a Service object\n",
      "  driver = webdriver.Chrome(r\"D:\\chrome_driver\\chromedriver.exe\")\n"
     ]
    }
   ],
   "source": [
    "driver = webdriver.Chrome(r\"D:\\chrome_driver\\chromedriver.exe\")\n",
    "driver.get(r\"https://www.google.com/search?q=donkey+skull&tbm=isch&ved=2ahUKEwiZqJSZ8cT6AhVH9IUKHTX-C-oQ2-cCegQIABAA&oq=donkey+skull&gs_lcp=CgNpbWcQAzIHCAAQgAQQEzIHCAAQgAQQEzIHCAAQgAQQEzIHCAAQgAQQEzIHCAAQgAQQEzIHCAAQgAQQEzIICAAQHhAHEBMyCAgAEB4QBxATOgQIABBDOgUIABCABDoGCAAQHhAHULMQWKZLYNtVaAFwAHgAgAGXAYgBxAmSAQMwLjmYAQCgAQGqAQtnd3Mtd2l6LWltZ8ABAQ&sclient=img&ei=DUQ7Y9ntFsfolwS1_K_QDg&bih=939&biw=1680\")"
   ]
  },
  {
   "cell_type": "code",
   "execution_count": 23,
   "id": "99639b59",
   "metadata": {},
   "outputs": [
    {
     "name": "stdout",
     "output_type": "stream",
     "text": [
      "number of scraped image:  128\n"
     ]
    }
   ],
   "source": [
    "import time\n",
    "driver.execute_script(\"window.scrollTo(0 ,document.body.scrollHeight);\")\n",
    "time.sleep(6)\n",
    "images = driver.find_elements(By.TAG_NAME , \"img\")\n",
    "images = [image.get_attribute('src') for image in images]\n",
    "#images = images[ : ]\n",
    "#print(images)\n",
    "\n",
    "print('number of scraped image: ' , len(images))"
   ]
  },
  {
   "cell_type": "code",
   "execution_count": 24,
   "id": "f0bb3b14",
   "metadata": {},
   "outputs": [
    {
     "name": "stderr",
     "output_type": "stream",
     "text": [
      "<ipython-input-24-fe6e2224fb70>:1: DeprecationWarning: find_elements_by_xpath is deprecated. Please use find_elements(by=By.XPATH, value=xpath) instead\n",
      "  images=driver.find_elements_by_xpath(\"//img[@class='rg_i Q4LuWd']\")\n"
     ]
    }
   ],
   "source": [
    "images=driver.find_elements_by_xpath(\"//img[@class='rg_i Q4LuWd']\")"
   ]
  },
  {
   "cell_type": "code",
   "execution_count": 6,
   "id": "ab882718",
   "metadata": {},
   "outputs": [
    {
     "data": {
      "text/plain": [
       "[<selenium.webdriver.remote.webelement.WebElement (session=\"15a71b6eaddaf6fa9b5464c944d370bd\", element=\"3990267a-42d5-4aea-9299-40949dd7b326\")>,\n",
       " <selenium.webdriver.remote.webelement.WebElement (session=\"15a71b6eaddaf6fa9b5464c944d370bd\", element=\"78aab780-8537-4a2b-866f-69c5a8efe741\")>,\n",
       " <selenium.webdriver.remote.webelement.WebElement (session=\"15a71b6eaddaf6fa9b5464c944d370bd\", element=\"cbd3fd27-f092-4db7-958e-2f3fae7c540f\")>,\n",
       " <selenium.webdriver.remote.webelement.WebElement (session=\"15a71b6eaddaf6fa9b5464c944d370bd\", element=\"ac523283-8c29-4786-9d1c-25086b4472f7\")>,\n",
       " <selenium.webdriver.remote.webelement.WebElement (session=\"15a71b6eaddaf6fa9b5464c944d370bd\", element=\"df3f30ac-72bb-4be8-89d1-e5207514a648\")>,\n",
       " <selenium.webdriver.remote.webelement.WebElement (session=\"15a71b6eaddaf6fa9b5464c944d370bd\", element=\"d4cf61a8-5872-429e-9273-b51014105a3c\")>,\n",
       " <selenium.webdriver.remote.webelement.WebElement (session=\"15a71b6eaddaf6fa9b5464c944d370bd\", element=\"e9329b65-3bcf-4337-978a-4c38b271c344\")>,\n",
       " <selenium.webdriver.remote.webelement.WebElement (session=\"15a71b6eaddaf6fa9b5464c944d370bd\", element=\"99ada7c4-27cb-44df-9a01-0b2cb5640263\")>,\n",
       " <selenium.webdriver.remote.webelement.WebElement (session=\"15a71b6eaddaf6fa9b5464c944d370bd\", element=\"cebb0176-587a-414c-8c5f-96c27fb5bcbb\")>,\n",
       " <selenium.webdriver.remote.webelement.WebElement (session=\"15a71b6eaddaf6fa9b5464c944d370bd\", element=\"63ebe40b-914a-4a66-bbcc-109250411b38\")>]"
      ]
     },
     "execution_count": 6,
     "metadata": {},
     "output_type": "execute_result"
    }
   ],
   "source": [
    "images[:10]"
   ]
  },
  {
   "cell_type": "code",
   "execution_count": 25,
   "id": "e9632f5d",
   "metadata": {},
   "outputs": [
    {
     "data": {
      "text/plain": [
       "50"
      ]
     },
     "execution_count": 25,
     "metadata": {},
     "output_type": "execute_result"
    }
   ],
   "source": [
    "img_urls = []\n",
    "\n",
    "for image in images:\n",
    "    source= image.get_attribute('src')\n",
    "    if source is not None:\n",
    "        if(source[0:4] == 'http'):\n",
    "            img_urls.append(source)\n",
    "len(img_urls)"
   ]
  },
  {
   "cell_type": "code",
   "execution_count": 26,
   "id": "cfd0980d",
   "metadata": {},
   "outputs": [],
   "source": [
    "def make_directory(dirname):\n",
    "    current_path = os.getcwd()\n",
    "    path = os.path.join(current_path, dirname)\n",
    "    if not os.path.exists(path):\n",
    "        os.makedirs(path)\n",
    "make_directory('horse_skull')        "
   ]
  },
  {
   "cell_type": "code",
   "execution_count": 27,
   "id": "a51f8297",
   "metadata": {},
   "outputs": [
    {
     "name": "stdout",
     "output_type": "stream",
     "text": [
      "Downloading 1 of 50 images from page 1\n",
      "Downloading 2 of 50 images from page 1\n",
      "Downloading 3 of 50 images from page 1\n",
      "Downloading 4 of 50 images from page 1\n",
      "Downloading 5 of 50 images from page 1\n",
      "Downloading 6 of 50 images from page 1\n",
      "Downloading 7 of 50 images from page 1\n",
      "Downloading 8 of 50 images from page 1\n",
      "Downloading 9 of 50 images from page 1\n",
      "Downloading 10 of 50 images from page 1\n",
      "Downloading 11 of 50 images from page 1\n",
      "Downloading 12 of 50 images from page 1\n",
      "Downloading 13 of 50 images from page 1\n",
      "Downloading 14 of 50 images from page 1\n",
      "Downloading 15 of 50 images from page 1\n",
      "Downloading 16 of 50 images from page 1\n",
      "Downloading 17 of 50 images from page 1\n",
      "Downloading 18 of 50 images from page 1\n",
      "Downloading 19 of 50 images from page 1\n",
      "Downloading 20 of 50 images from page 1\n",
      "Downloading 21 of 50 images from page 1\n",
      "Downloading 22 of 50 images from page 1\n",
      "Downloading 23 of 50 images from page 1\n",
      "Downloading 24 of 50 images from page 1\n",
      "Downloading 25 of 50 images from page 1\n",
      "Downloading 26 of 50 images from page 1\n",
      "Downloading 27 of 50 images from page 1\n",
      "Downloading 28 of 50 images from page 1\n",
      "Downloading 29 of 50 images from page 1\n",
      "Downloading 30 of 50 images from page 1\n",
      "Downloading 31 of 50 images from page 1\n",
      "Downloading 32 of 50 images from page 1\n",
      "Downloading 33 of 50 images from page 1\n",
      "Downloading 34 of 50 images from page 1\n",
      "Downloading 35 of 50 images from page 1\n",
      "Downloading 36 of 50 images from page 1\n",
      "Downloading 37 of 50 images from page 1\n",
      "Downloading 38 of 50 images from page 1\n",
      "Downloading 39 of 50 images from page 1\n",
      "Downloading 40 of 50 images from page 1\n",
      "Downloading 41 of 50 images from page 1\n",
      "Downloading 42 of 50 images from page 1\n",
      "Downloading 43 of 50 images from page 1\n",
      "Downloading 44 of 50 images from page 1\n",
      "Downloading 45 of 50 images from page 1\n",
      "Downloading 46 of 50 images from page 1\n",
      "Downloading 47 of 50 images from page 1\n",
      "Downloading 48 of 50 images from page 1\n",
      "Downloading 49 of 50 images from page 1\n",
      "Downloading 50 of 50 images from page 1\n"
     ]
    }
   ],
   "source": [
    "import requests\n",
    "page=1\n",
    "for index,link in enumerate(img_urls):\n",
    "    print(\"Downloading {0} of {1} images from page 1\".format(index+1,len(img_urls)))\n",
    "    response=requests.get(link)\n",
    "    with open('horse_skull/img_{0}{1}.jpeg'.format(index,page),\"wb\") as file:\n",
    "            file.write(response.content)"
   ]
  },
  {
   "cell_type": "code",
   "execution_count": null,
   "id": "cb5b6036",
   "metadata": {},
   "outputs": [],
   "source": []
  }
 ],
 "metadata": {
  "kernelspec": {
   "display_name": "Python 3",
   "language": "python",
   "name": "python3"
  },
  "language_info": {
   "codemirror_mode": {
    "name": "ipython",
    "version": 3
   },
   "file_extension": ".py",
   "mimetype": "text/x-python",
   "name": "python",
   "nbconvert_exporter": "python",
   "pygments_lexer": "ipython3",
   "version": "3.8.8"
  },
  "varInspector": {
   "cols": {
    "lenName": 16,
    "lenType": 16,
    "lenVar": 40
   },
   "kernels_config": {
    "python": {
     "delete_cmd_postfix": "",
     "delete_cmd_prefix": "del ",
     "library": "var_list.py",
     "varRefreshCmd": "print(var_dic_list())"
    },
    "r": {
     "delete_cmd_postfix": ") ",
     "delete_cmd_prefix": "rm(",
     "library": "var_list.r",
     "varRefreshCmd": "cat(var_dic_list()) "
    }
   },
   "types_to_exclude": [
    "module",
    "function",
    "builtin_function_or_method",
    "instance",
    "_Feature"
   ],
   "window_display": false
  }
 },
 "nbformat": 4,
 "nbformat_minor": 5
}
