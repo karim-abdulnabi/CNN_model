{
 "cells": [
  {
   "cell_type": "code",
   "execution_count": 17,
   "id": "f207b2df",
   "metadata": {},
   "outputs": [],
   "source": [
    "from keras.models import Sequential\n",
    "from keras.layers import Convolution2D , MaxPooling2D , Flatten ,Dense\n",
    "import matplotlib.pyplot as plt\n",
    "import warnings \n",
    "warnings.filterwarnings(\"ignore\")"
   ]
  },
  {
   "cell_type": "markdown",
   "id": "7024b51e",
   "metadata": {},
   "source": [
    "### intialinsing the CNN"
   ]
  },
  {
   "cell_type": "code",
   "execution_count": 71,
   "id": "2ed6d869",
   "metadata": {},
   "outputs": [],
   "source": [
    "classifier = Sequential()\n",
    "\n",
    "classifier.add(Convolution2D(64 , 3 , 3 , input_shape=(64 , 64 , 3) , activation = \"relu\"))\n",
    "\n",
    "classifier.add(MaxPooling2D(pool_size=(2 , 2)))\n",
    "\n",
    "classifier.add(Convolution2D(64 , 3 , 3 , activation=\"relu\"))\n",
    "\n",
    "classifier.add(MaxPooling2D(pool_size=(2 , 2)))\n",
    "\n",
    "classifier.add(Flatten())\n",
    "\n",
    "classifier.add(Dense( units = 128 , activation = \"relu\" ))\n",
    "#classifier.add(Dense(NUM_CLASSES, activation='softmax'))\n",
    "\n",
    "classifier.add(Dense(units = 1 , activation = \"sigmoid\"))\n",
    "\n",
    "classifier.compile(optimizer=\"adam\" , loss=\"binary_crossentropy\" , metrics=[\"accuracy\"])"
   ]
  },
  {
   "cell_type": "code",
   "execution_count": 50,
   "id": "f4b70b0f",
   "metadata": {},
   "outputs": [],
   "source": [
    "from keras_preprocessing.image import ImageDataGenerator"
   ]
  },
  {
   "cell_type": "code",
   "execution_count": 51,
   "id": "3056d204",
   "metadata": {},
   "outputs": [],
   "source": [
    "train_datagn = ImageDataGenerator(rescale=1/255 , shear_range=0.2 , zoom_range=0.2 , horizontal_flip=True)\n",
    "\n",
    "test_datagen = ImageDataGenerator(rescale=1/255)"
   ]
  },
  {
   "cell_type": "code",
   "execution_count": 52,
   "id": "443e8b6b",
   "metadata": {},
   "outputs": [
    {
     "name": "stdout",
     "output_type": "stream",
     "text": [
      "Found 2702 images belonging to 3 classes.\n"
     ]
    }
   ],
   "source": [
    "training_set = train_datagn.flow_from_directory(r\"C:\\Users\\USER_PC_SA\\Desktop\\scraping_project\\My_Data\\traning\" ,\n",
    "                                                target_size=(64 , 64) ,\n",
    "                                                batch_size=32 ,\n",
    "                                                class_mode=\"categorical\")"
   ]
  },
  {
   "cell_type": "code",
   "execution_count": 53,
   "id": "441a6c2a",
   "metadata": {},
   "outputs": [
    {
     "name": "stdout",
     "output_type": "stream",
     "text": [
      "Found 266 images belonging to 3 classes.\n"
     ]
    }
   ],
   "source": [
    "test_set = test_datagen.flow_from_directory(r\"C:\\Users\\USER_PC_SA\\Desktop\\scraping_project\\My_Data\\test\" ,\n",
    "                                            target_size=(64 , 64) ,\n",
    "                                            batch_size=32 ,\n",
    "                                            class_mode=\"categorical\")"
   ]
  },
  {
   "cell_type": "code",
   "execution_count": null,
   "id": "7a073993",
   "metadata": {},
   "outputs": [],
   "source": [
    "hist = classifier.fit_generator(training_set ,\n",
    "                                steps_per_epoch=1000 ,\n",
    "                                epochs = 25 ,\n",
    "                                validation_data=test_set ,\n",
    "                                validation_steps = 400 )"
   ]
  },
  {
   "cell_type": "code",
   "execution_count": 57,
   "id": "89956fdc",
   "metadata": {},
   "outputs": [],
   "source": [
    "import numpy as np\n",
    "from keras_preprocessing import image"
   ]
  },
  {
   "cell_type": "code",
   "execution_count": 58,
   "id": "36a56a74",
   "metadata": {},
   "outputs": [],
   "source": [
    "test_image = image.load_img(r\"My_Data/prediction/cat.jpg\" , target_size=(64 , 64))"
   ]
  },
  {
   "cell_type": "code",
   "execution_count": 59,
   "id": "8d121593",
   "metadata": {},
   "outputs": [
    {
     "name": "stdout",
     "output_type": "stream",
     "text": [
      "1/1 [==============================] - 0s 77ms/step\n"
     ]
    }
   ],
   "source": [
    "test_image = image.img_to_array(test_image)\n",
    "\n",
    "test_image = np.expand_dims(test_image , axis=0)\n",
    "\n",
    "result_train = classifier.predict(test_image)"
   ]
  },
  {
   "cell_type": "code",
   "execution_count": null,
   "id": "59e22d82",
   "metadata": {},
   "outputs": [],
   "source": [
    "if result_train[0][0] == 0:\n",
    "    prediction = \"cat\"\n",
    "elif result_train[0][0] == 1:\n",
    "    prediction = \"dog\"\n",
    "else:\n",
    "    prediction = \"monkey\"\n",
    "print(\"the precision result is: \" , prediction) "
   ]
  },
  {
   "cell_type": "code",
   "execution_count": 61,
   "id": "20fcd9e4",
   "metadata": {},
   "outputs": [],
   "source": [
    "test_image = image.load_img(r\"My_Data/prediction/dog.jpg\" , target_size=(64 , 64))"
   ]
  },
  {
   "cell_type": "code",
   "execution_count": 62,
   "id": "887df41e",
   "metadata": {},
   "outputs": [
    {
     "name": "stdout",
     "output_type": "stream",
     "text": [
      "1/1 [==============================] - 0s 33ms/step\n"
     ]
    }
   ],
   "source": [
    "test_image = image.img_to_array(test_image)\n",
    "test_image = np.expand_dims(test_image , axis = 0)\n",
    "result_test = classifier.predict(test_image)"
   ]
  },
  {
   "cell_type": "code",
   "execution_count": null,
   "id": "cd94a3bd",
   "metadata": {},
   "outputs": [],
   "source": [
    " if result_train[0][0] == 0:\n",
    "    prediction = \"cat\"\n",
    "elif result_train[0][0] == 1:\n",
    "    prediction = \"dog\"\n",
    "else:\n",
    "    prediction = \"monkey\"\n",
    "print(\"the precision result is: \" , prediction)"
   ]
  },
  {
   "cell_type": "code",
   "execution_count": 64,
   "id": "54ae8006",
   "metadata": {},
   "outputs": [],
   "source": [
    "test_image = image.load_img(r\"My_Data/prediction/monkey.jpg\" , target_size=(64 , 64))"
   ]
  },
  {
   "cell_type": "code",
   "execution_count": 65,
   "id": "507eb66b",
   "metadata": {},
   "outputs": [
    {
     "name": "stdout",
     "output_type": "stream",
     "text": [
      "1/1 [==============================] - 0s 26ms/step\n"
     ]
    }
   ],
   "source": [
    "test_image = image.img_to_array(test_image)\n",
    "test_image = np.expand_dims(test_image , axis = 0)\n",
    "result_test = classifier.predict(test_image)"
   ]
  },
  {
   "cell_type": "code",
   "execution_count": null,
   "id": "88c3e28d",
   "metadata": {},
   "outputs": [],
   "source": [
    "if result_train[0][0] == 0:\n",
    "    prediction = \"cat\"\n",
    "elif result_train[0][0] == 1:\n",
    "    prediction = \"dog\"\n",
    "else:\n",
    "    prediction = \"monkey\"\n",
    "print(\"the precision result is: \" , prediction) "
   ]
  },
  {
   "cell_type": "markdown",
   "id": "08cd32f3",
   "metadata": {},
   "source": [
    "## accuracy == 89%"
   ]
  }
 ],
 "metadata": {
  "kernelspec": {
   "display_name": "Python 3",
   "language": "python",
   "name": "python3"
  },
  "language_info": {
   "codemirror_mode": {
    "name": "ipython",
    "version": 3
   },
   "file_extension": ".py",
   "mimetype": "text/x-python",
   "name": "python",
   "nbconvert_exporter": "python",
   "pygments_lexer": "ipython3",
   "version": "3.8.8"
  },
  "varInspector": {
   "cols": {
    "lenName": 16,
    "lenType": 16,
    "lenVar": 40
   },
   "kernels_config": {
    "python": {
     "delete_cmd_postfix": "",
     "delete_cmd_prefix": "del ",
     "library": "var_list.py",
     "varRefreshCmd": "print(var_dic_list())"
    },
    "r": {
     "delete_cmd_postfix": ") ",
     "delete_cmd_prefix": "rm(",
     "library": "var_list.r",
     "varRefreshCmd": "cat(var_dic_list()) "
    }
   },
   "types_to_exclude": [
    "module",
    "function",
    "builtin_function_or_method",
    "instance",
    "_Feature"
   ],
   "window_display": false
  }
 },
 "nbformat": 4,
 "nbformat_minor": 5
}
