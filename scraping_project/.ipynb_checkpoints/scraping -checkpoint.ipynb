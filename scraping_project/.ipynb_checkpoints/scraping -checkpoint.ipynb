{
 "cells": [
  {
   "cell_type": "code",
   "execution_count": 1,
   "id": "699b731c",
   "metadata": {},
   "outputs": [],
   "source": [
    "from selenium import webdriver\n",
    "import time as t\n",
    "from selenium.webdriver.common.keys import Keys\n",
    "from selenium.webdriver.common.by import By\n",
    "import urllib\n",
    "import cv2\n",
    "import os"
   ]
  },
  {
   "cell_type": "code",
   "execution_count": null,
   "id": "d9d3895a",
   "metadata": {},
   "outputs": [],
   "source": [
    "try:\n",
    "    os.mkdir(\"dataset_download\")\n",
    "except:\n",
    "    pass\n",
    "\n",
    "name = \"giraffe\"\n",
    "\n",
    "chrome_options = webdriver.ChromeOptions()\n",
    "\n",
    "chrome_options.add_experimental_option(\"excludeSwitches\" , [\"enable-automation\"])\n",
    "\n",
    "driver = webdriver.Chrome(executable_path=\"D:\\\\chrome_driver\\\\chromedriver.exe\" , options=chrome_options)\n",
    "\n",
    "strr = \"https://www.google.com/search?q=giraffe&sxsrf=ALiCzsafSBxp_6lnzs2yKCT10lspszlGxA:1663601541080&source=lnms&tbm=isch&sa=X&ved=2ahUKEwj9-JzXlqH6AhVwhv0HHYiJC9cQ_AUoAXoECAEQAw&biw=1680&bih=939&dpr=1\"\n",
    "\n",
    "driver.get(strr)\n",
    "t.sleep(3)\n",
    "#//*[@id=\"islrg\"]/div[1]/div[8]/a[1]/div[1]/img\n",
    "pics = driver.find_elements('xpath','//*[@id=\"islrg\"]/div[1]')\n",
    "\n",
    "links = []\n",
    "x = 1\n",
    "last_height = 0\n",
    "\n",
    "def download_image (url , filename):\n",
    "    resource = urllib.request.urlopen(url)\n",
    "    output = open(filename , \"wb\")\n",
    "    output.write(resource.read())\n",
    "    output.close()\n",
    "    \n",
    "while True:\n",
    "    driver.execute_script(\"window.scrollTo(0 , document.body.scrollHeight);\")\n",
    "    t.sleep(4)\n",
    "    pics_ = pics.find_element('xpath' , './*')\n",
    "    \n",
    "    for pic in pics_:\n",
    "        try:\n",
    "            img_link = pic.find_element_by_xpath('a[1]/div[1]/img').get_attribute(\"src\")\n",
    "\n",
    "            if img_link not in links:\n",
    "                links.append(img_link)\n",
    "                try:\n",
    "                    os.mkdir(\"dataset_download//\"+name)\n",
    "                except:\n",
    "                    pass\n",
    "                \n",
    "                file_name = 'dataset_download//'+name+'//'+str(x)+'.jpg'\n",
    "                download_image(img_link , file_name)\n",
    "                x+=1\n",
    "        except:\n",
    "            print(\"_\" , end=\"\")\n",
    "      \n",
    "    new_height = driver.execute_script(\"return document.body.scrollHeight\")\n",
    "    print(new_height)\n",
    "    if new_height == last_height :\n",
    "        break\n",
    "        \n",
    "     \n",
    "    last_height = new_height\n",
    "        \n",
    "        \n",
    "driver.close()       \n",
    "        \n",
    "        \n",
    "            \n",
    "                \n",
    "                "
   ]
  }
 ],
 "metadata": {
  "kernelspec": {
   "display_name": "Python 3",
   "language": "python",
   "name": "python3"
  },
  "language_info": {
   "codemirror_mode": {
    "name": "ipython",
    "version": 3
   },
   "file_extension": ".py",
   "mimetype": "text/x-python",
   "name": "python",
   "nbconvert_exporter": "python",
   "pygments_lexer": "ipython3",
   "version": "3.8.8"
  },
  "varInspector": {
   "cols": {
    "lenName": 16,
    "lenType": 16,
    "lenVar": 40
   },
   "kernels_config": {
    "python": {
     "delete_cmd_postfix": "",
     "delete_cmd_prefix": "del ",
     "library": "var_list.py",
     "varRefreshCmd": "print(var_dic_list())"
    },
    "r": {
     "delete_cmd_postfix": ") ",
     "delete_cmd_prefix": "rm(",
     "library": "var_list.r",
     "varRefreshCmd": "cat(var_dic_list()) "
    }
   },
   "types_to_exclude": [
    "module",
    "function",
    "builtin_function_or_method",
    "instance",
    "_Feature"
   ],
   "window_display": false
  }
 },
 "nbformat": 4,
 "nbformat_minor": 5
}
