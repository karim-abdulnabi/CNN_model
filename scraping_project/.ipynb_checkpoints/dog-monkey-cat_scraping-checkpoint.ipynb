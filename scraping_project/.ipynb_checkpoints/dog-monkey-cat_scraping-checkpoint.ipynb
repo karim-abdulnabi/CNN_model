{
 "cells": [
  {
   "cell_type": "code",
   "execution_count": 30,
   "id": "e5a872e9",
   "metadata": {},
   "outputs": [],
   "source": [
    "import os\n",
    "from selenium import webdriver\n",
    "from selenium.webdriver.common.keys import Keys\n",
    "from selenium.webdriver.support import expected_conditions as EC\n",
    "from selenium.webdriver.common.by import By\n",
    "from selenium.webdriver.support.wait import WebDriverWait"
   ]
  },
  {
   "cell_type": "code",
   "execution_count": 42,
   "id": "8b27ef7b",
   "metadata": {},
   "outputs": [
    {
     "name": "stderr",
     "output_type": "stream",
     "text": [
      "<ipython-input-42-571477da75ae>:1: DeprecationWarning: executable_path has been deprecated, please pass in a Service object\n",
      "  driver = webdriver.Chrome(r\"D:\\\\chrome_driver\\\\chromedriver.exe\")\n"
     ]
    }
   ],
   "source": [
    "driver = webdriver.Chrome(r\"D:\\\\chrome_driver\\\\chromedriver.exe\")\n",
    "driver.get(\"https://www.instagram.com\")"
   ]
  },
  {
   "cell_type": "code",
   "execution_count": 193,
   "id": "b09401a5",
   "metadata": {},
   "outputs": [],
   "source": [
    "username = WebDriverWait(driver , 10 ).until(EC.element_to_be_clickable((By.CSS_SELECTOR , \"input[name = 'username']\")))\n",
    "password = WebDriverWait(driver , 10 ).until(EC.element_to_be_clickable((By.CSS_SELECTOR , \"input[name = 'password']\")))\n",
    "\n",
    "username.clear()\n",
    "username.send_keys(\"your user\")\n",
    "password.clear()\n",
    "password.send_keys(\"your password\")\n",
    "\n",
    "button = WebDriverWait(driver , 2 ).until(EC.element_to_be_clickable((By.CSS_SELECTOR , \"button[type = 'submit']\"))).click()\n",
    "\n",
    "\n",
    "not_now = WebDriverWait(driver , 10 ).until(EC.element_to_be_clickable((By.XPATH , '//button[contains(text() , \"Not Now\")]'))).click()\n",
    "#not_now2 = WebDriverWait(driver , 10 ).until(EC.element_to_be_clickable((By.XPATH , '//button[contains(text() , \"Not Now\")]'))).click()\n"
   ]
  },
  {
   "cell_type": "code",
   "execution_count": 43,
   "id": "62d72bdb",
   "metadata": {},
   "outputs": [
    {
     "data": {
      "text/plain": [
       "'import time\\n\\n#//*[@id=\"input\"]\\nsearchbox = WebDriverWait(driver , 2 ).until(EC.element_to_be_clickable((By.XPATH ,\\'//*[@id=\"inputWrapper\"]\\')))\\nsearchbox.clear()\\n\\nkeyword = \"monkey\"\\nsearchbox.send_keys(keyword)\\n\\ntime.sleep(5)\\nsearchbox.send_keys(Keys.ENTER)\\nsearchbox.send_keys(Keys.ENTER)\\ntime.sleep(5)\\nsearchbox.send_keys(Keys.ENTER)\\ntime.sleep(5)'"
      ]
     },
     "execution_count": 43,
     "metadata": {},
     "output_type": "execute_result"
    }
   ],
   "source": [
    "import time\n",
    "\n",
    "#//*[@id=\"input\"]\n",
    "searchbox = WebDriverWait(driver , 2 ).until(EC.element_to_be_clickable((By.XPATH ,'//*[@id=\"inputWrapper\"]')))\n",
    "searchbox.clear()\n",
    "\n",
    "keyword = \"monkey\"\n",
    "searchbox.send_keys(keyword)\n",
    "\n",
    "time.sleep(5)\n",
    "searchbox.send_keys(Keys.ENTER)\n",
    "searchbox.send_keys(Keys.ENTER)\n",
    "time.sleep(5)\n",
    "searchbox.send_keys(Keys.ENTER)\n",
    "time.sleep(5)"
   ]
  },
  {
   "cell_type": "code",
   "execution_count": 16,
   "id": "bb8f7785",
   "metadata": {},
   "outputs": [
    {
     "name": "stdout",
     "output_type": "stream",
     "text": [
      "number of scraped image:  86\n"
     ]
    }
   ],
   "source": [
    "driver.execute_script(\"window.scrollTo(0 ,document.body.scrollHeight);\")\n",
    "time.sleep(5)\n",
    "images = driver.find_elements(By.TAG_NAME , \"img\")\n",
    "images = [image.get_attribute('src') for image in images]\n",
    "images = images[ : -2]\n",
    "#print(images)\n",
    "\n",
    "print('number of scraped image: ' , len(images))\n",
    "\n",
    "\n",
    "#driver.find_elements(by=\"tag\" , value='img')"
   ]
  },
  {
   "cell_type": "code",
   "execution_count": 40,
   "id": "c8fd4723",
   "metadata": {},
   "outputs": [
    {
     "data": {
      "text/plain": [
       "'C:\\\\Users\\\\USER_PC_SA\\\\Desktop\\\\scraping_project\\\\monkeys'"
      ]
     },
     "execution_count": 40,
     "metadata": {},
     "output_type": "execute_result"
    }
   ],
   "source": [
    "import os\n",
    "import wget\n",
    "path = os.getcwd()\n",
    "path = os.path.join(path, keyword)\n",
    "\n",
    "#create the directory\n",
    "os.mkdir(path)\n",
    "\n",
    "path"
   ]
  },
  {
   "cell_type": "code",
   "execution_count": null,
   "id": "cab0b1ff",
   "metadata": {},
   "outputs": [],
   "source": [
    "counter = 0\n",
    "import wget\n",
    "for image in images:\n",
    "    save_as = os.path.join(path, keyword + str(counter) + '.jpg')\n",
    "    #wget.download(image, save_as)\n",
    "    wget.download(image , save_as)\n",
    "    counter += 1"
   ]
  },
  {
   "cell_type": "code",
   "execution_count": null,
   "id": "bebddd6e",
   "metadata": {},
   "outputs": [],
   "source": []
  }
 ],
 "metadata": {
  "kernelspec": {
   "display_name": "Python 3",
   "language": "python",
   "name": "python3"
  },
  "language_info": {
   "codemirror_mode": {
    "name": "ipython",
    "version": 3
   },
   "file_extension": ".py",
   "mimetype": "text/x-python",
   "name": "python",
   "nbconvert_exporter": "python",
   "pygments_lexer": "ipython3",
   "version": "3.8.8"
  },
  "varInspector": {
   "cols": {
    "lenName": 16,
    "lenType": 16,
    "lenVar": 40
   },
   "kernels_config": {
    "python": {
     "delete_cmd_postfix": "",
     "delete_cmd_prefix": "del ",
     "library": "var_list.py",
     "varRefreshCmd": "print(var_dic_list())"
    },
    "r": {
     "delete_cmd_postfix": ") ",
     "delete_cmd_prefix": "rm(",
     "library": "var_list.r",
     "varRefreshCmd": "cat(var_dic_list()) "
    }
   },
   "types_to_exclude": [
    "module",
    "function",
    "builtin_function_or_method",
    "instance",
    "_Feature"
   ],
   "window_display": false
  }
 },
 "nbformat": 4,
 "nbformat_minor": 5
}
